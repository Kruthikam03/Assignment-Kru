{
 "cells": [
  {
   "cell_type": "markdown",
   "id": "195f4c4f-935f-4191-9bf2-3009a3430881",
   "metadata": {},
   "source": [
    "# a. Build 99% Confidence Interval Using Sample Standard Deviation\n",
    "\n",
    "### Assuming the sample is representative of the population, construct a 99% confidence interval for the mean number of characters printed before the print-head fails using the sample standard deviation. Explain the steps you take and the rationale behind using the t-distribution for this task.\n",
    "\n",
    "Sample size (n) = 15\n",
    "\n",
    "Sample data (durability in millions of characters):\n",
    "1.13, 1.55, 1.43, 0.92, 1.25, 1.36, 1.32, 0.85, 1.07, 1.48, 1.20, 1.33, 1.18, 1.22, 1.29\n",
    "\n",
    "Confidence level = 99%\n",
    "                \n",
    "Since the population standard deviation is unknown, we use the sample standard deviation (s) and apply the t-distribution instead of the normal (z) distribution"
   ]
  },
  {
   "cell_type": "code",
   "execution_count": 1,
   "id": "0e7fd222-fffd-4d74-b68b-d608785b77eb",
   "metadata": {},
   "outputs": [],
   "source": [
    "import numpy as np\n",
    "import scipy.stats as stats"
   ]
  },
  {
   "cell_type": "code",
   "execution_count": 2,
   "id": "4ed04136-7a89-482e-b242-dbe4d0bc7914",
   "metadata": {},
   "outputs": [
    {
     "data": {
      "text/plain": [
       "array([1.13, 1.55, 1.43, 0.92, 1.25, 1.36, 1.32, 0.85, 1.07, 1.48, 1.2 ,\n",
       "       1.33, 1.18, 1.22, 1.29])"
      ]
     },
     "execution_count": 2,
     "metadata": {},
     "output_type": "execute_result"
    }
   ],
   "source": [
    "# Given data\n",
    "data = np.array([1.13, 1.55, 1.43, 0.92, 1.25, 1.36, 1.32, 0.85, 1.07, 1.48, 1.20, 1.33, 1.18, 1.22, 1.29])\n",
    "data"
   ]
  },
  {
   "cell_type": "code",
   "execution_count": 3,
   "id": "2ac3c796-33c9-4a16-9402-7a0bad7b2031",
   "metadata": {},
   "outputs": [
    {
     "data": {
      "text/plain": [
       "15"
      ]
     },
     "execution_count": 3,
     "metadata": {},
     "output_type": "execute_result"
    }
   ],
   "source": [
    "# Sample size\n",
    "n = len(data)\n",
    "n"
   ]
  },
  {
   "cell_type": "code",
   "execution_count": 4,
   "id": "11abaf42-0461-4762-8c10-2b7586ad4ce6",
   "metadata": {},
   "outputs": [
    {
     "data": {
      "text/plain": [
       "1.2386666666666666"
      ]
     },
     "execution_count": 4,
     "metadata": {},
     "output_type": "execute_result"
    }
   ],
   "source": [
    "# Sample mean\n",
    "mean_x = np.mean(data)\n",
    "mean_x"
   ]
  },
  {
   "cell_type": "code",
   "execution_count": 5,
   "id": "7d16001d-1c1a-4fcf-95a1-bdd5dd034d91",
   "metadata": {},
   "outputs": [
    {
     "data": {
      "text/plain": [
       "0.19316412956959936"
      ]
     },
     "execution_count": 5,
     "metadata": {},
     "output_type": "execute_result"
    }
   ],
   "source": [
    "# Sample standard deviation (using n-1 for sample std deviation)\n",
    "s = np.std(data, ddof=1)\n",
    "s"
   ]
  },
  {
   "cell_type": "code",
   "execution_count": 6,
   "id": "24d8d72f-356f-4a10-be9d-1eee57f612fe",
   "metadata": {},
   "outputs": [
    {
     "data": {
      "text/plain": [
       "14"
      ]
     },
     "execution_count": 6,
     "metadata": {},
     "output_type": "execute_result"
    }
   ],
   "source": [
    "# Degrees of freedom\n",
    "df = n - 1\n",
    "df"
   ]
  },
  {
   "cell_type": "code",
   "execution_count": 7,
   "id": "60f534fe-1c35-4f5e-8174-17c9881200f1",
   "metadata": {},
   "outputs": [
    {
     "data": {
      "text/plain": [
       "2.976842734370834"
      ]
     },
     "execution_count": 7,
     "metadata": {},
     "output_type": "execute_result"
    }
   ],
   "source": [
    "# t-critical value for 99% confidence interval\n",
    "t_critical = stats.t.ppf(0.995, df)\n",
    "t_critical"
   ]
  },
  {
   "cell_type": "code",
   "execution_count": 8,
   "id": "57793a9e-2396-431b-8d68-eb82ebba60c9",
   "metadata": {},
   "outputs": [
    {
     "data": {
      "text/plain": [
       "0.14846932822817596"
      ]
     },
     "execution_count": 8,
     "metadata": {},
     "output_type": "execute_result"
    }
   ],
   "source": [
    "# Margin of error\n",
    "ME = t_critical * (s / np.sqrt(n))\n",
    "ME"
   ]
  },
  {
   "cell_type": "code",
   "execution_count": 9,
   "id": "56cd40ea-9588-43bc-80ec-ca9429e8e5c6",
   "metadata": {},
   "outputs": [
    {
     "data": {
      "text/plain": [
       "(1.0901973384384906, 1.3871359948948425)"
      ]
     },
     "execution_count": 9,
     "metadata": {},
     "output_type": "execute_result"
    }
   ],
   "source": [
    "# Confidence Interval\n",
    "CI_lower = mean_x - ME\n",
    "CI_upper = mean_x + ME\n",
    "(CI_lower, CI_upper)"
   ]
  },
  {
   "cell_type": "markdown",
   "id": "f82c5b49-6e44-428c-8ce7-8d489ff524cf",
   "metadata": {},
   "source": [
    "# Interpretation\n",
    "\n",
    "We are 99% confident that the true mean durability of the print-heads (in millions of characters printed before failure) lies between 1.090 million and 1.387 million characters."
   ]
  },
  {
   "cell_type": "markdown",
   "id": "8c205997-e16e-4392-ba4f-6aa6eb99bbf5",
   "metadata": {},
   "source": [
    "# b. Build 99% Confidence Interval Using Known Population Standard Deviation\n",
    "\n",
    "### If it were known that the population standard deviation is 0.2 million characters, construct a 99% confidence interval for the mean number of characters printed before failure.\n",
    "\n",
    "To construct a 99% confidence interval for the mean durability of the print-heads, given that the population standard deviation is known to be 0.2 million characters, we can use the z-distribution.\n",
    "\n",
    "Sample size (n): 15\n",
    "\n",
    "Sample mean: 1.239 million characters (as calculated previously)\n",
    "\n",
    "Population standard deviation: 0.2 million characters\n",
    "\n",
    "Confidence level: 99%"
   ]
  },
  {
   "cell_type": "code",
   "execution_count": 10,
   "id": "295f04c0-90b6-40c0-ad2a-85e44316292e",
   "metadata": {},
   "outputs": [],
   "source": [
    "# Known population standard deviation\n",
    "sigma = 0.2"
   ]
  },
  {
   "cell_type": "code",
   "execution_count": 11,
   "id": "5fe318bb-ff94-4115-9e4a-d0d67c7b04af",
   "metadata": {},
   "outputs": [
    {
     "data": {
      "text/plain": [
       "2.5758293035489004"
      ]
     },
     "execution_count": 11,
     "metadata": {},
     "output_type": "execute_result"
    }
   ],
   "source": [
    "# z-critical value for 99% confidence interval\n",
    "z_critical = stats.norm.ppf(0.995)  # 99% confidence level => 0.995 in two-tailed test\n",
    "z_critical"
   ]
  },
  {
   "cell_type": "code",
   "execution_count": 12,
   "id": "2bdca048-baa1-43be-94dc-7c516b4c604d",
   "metadata": {},
   "outputs": [
    {
     "data": {
      "text/plain": [
       "0.051639777949432225"
      ]
     },
     "execution_count": 12,
     "metadata": {},
     "output_type": "execute_result"
    }
   ],
   "source": [
    "# Standard Error\n",
    "SE = sigma / np.sqrt(n)\n",
    "SE"
   ]
  },
  {
   "cell_type": "code",
   "execution_count": 13,
   "id": "f9af0d3b-a7b5-4302-8f39-6e2a38d55b24",
   "metadata": {},
   "outputs": [
    {
     "data": {
      "text/plain": [
       "0.13301525327090588"
      ]
     },
     "execution_count": 13,
     "metadata": {},
     "output_type": "execute_result"
    }
   ],
   "source": [
    "# Margin of Error\n",
    "ME = z_critical * SE\n",
    "ME"
   ]
  },
  {
   "cell_type": "code",
   "execution_count": 14,
   "id": "03e72f5e-905e-443b-8417-2cb2b1c918f6",
   "metadata": {},
   "outputs": [
    {
     "data": {
      "text/plain": [
       "(1.1056514133957607, 1.3716819199375725)"
      ]
     },
     "execution_count": 14,
     "metadata": {},
     "output_type": "execute_result"
    }
   ],
   "source": [
    "# Confidence Interval\n",
    "CI_lower = mean_x - ME\n",
    "CI_upper = mean_x + ME\n",
    "(CI_lower, CI_upper)"
   ]
  },
  {
   "cell_type": "markdown",
   "id": "c590eda8-edf6-4c50-a318-44b5bc21252e",
   "metadata": {},
   "source": [
    "# Interpretation\n",
    "\n",
    "We are 99% confident that the true mean durability of the print-heads lies between 1.106 million and 1.372 million characters."
   ]
  },
  {
   "cell_type": "code",
   "execution_count": null,
   "id": "ed78489d-5f9f-4a93-9651-467bad2b45db",
   "metadata": {},
   "outputs": [],
   "source": []
  }
 ],
 "metadata": {
  "kernelspec": {
   "display_name": "Python 3 (ipykernel)",
   "language": "python",
   "name": "python3"
  },
  "language_info": {
   "codemirror_mode": {
    "name": "ipython",
    "version": 3
   },
   "file_extension": ".py",
   "mimetype": "text/x-python",
   "name": "python",
   "nbconvert_exporter": "python",
   "pygments_lexer": "ipython3",
   "version": "3.12.7"
  }
 },
 "nbformat": 4,
 "nbformat_minor": 5
}
