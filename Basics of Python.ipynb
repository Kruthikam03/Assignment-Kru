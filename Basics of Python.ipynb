{
 "cells": [
  {
   "cell_type": "markdown",
   "id": "4d90b379-6fd8-4eaa-b7a6-0acdb164567a",
   "metadata": {},
   "source": [
    "# Exercise 1: Prime Numbers"
   ]
  },
  {
   "cell_type": "code",
   "execution_count": 1,
   "id": "a58d0a35-5c4b-4dc7-921c-e2b25a11621a",
   "metadata": {},
   "outputs": [
    {
     "name": "stdin",
     "output_type": "stream",
     "text": [
      "Enter a number:  1\n"
     ]
    },
    {
     "name": "stdout",
     "output_type": "stream",
     "text": [
      "1 is not a prime number.\n"
     ]
    }
   ],
   "source": [
    "num = int(input(\"Enter a number: \"))\n",
    "\n",
    "if num > 1:\n",
    "    is_prime = True\n",
    "    if num == 2 or num == 3:\n",
    "        is_prime = True\n",
    "    elif num % 2 == 0 or num % 3 == 0:\n",
    "        is_prime = False\n",
    "    else:\n",
    "        i = 5\n",
    "        while i * i <= num:\n",
    "            if num % i == 0 or num % (i + 2) == 0:\n",
    "                is_prime = False\n",
    "                break\n",
    "            i += 6\n",
    "    \n",
    "    if is_prime:\n",
    "        print(f\"{num} is a prime number.\")\n",
    "    else:\n",
    "        print(f\"{num} is not a prime number.\")\n",
    "else:\n",
    "    print(f\"{num} is not a prime number.\")"
   ]
  },
  {
   "cell_type": "markdown",
   "id": "765454a5-2d7b-48d8-9434-f4a791f4d700",
   "metadata": {},
   "source": [
    "# Exercise 2: Product of Random Numbers"
   ]
  },
  {
   "cell_type": "code",
   "execution_count": 2,
   "id": "cb189b6d-0442-481c-af4e-67af3453283b",
   "metadata": {},
   "outputs": [
    {
     "name": "stdin",
     "output_type": "stream",
     "text": [
      "What is 5 * 7?  35\n"
     ]
    },
    {
     "name": "stdout",
     "output_type": "stream",
     "text": [
      "Correct! Well done.\n"
     ]
    }
   ],
   "source": [
    "import random\n",
    "\n",
    "# Generate two random numbers\n",
    "num1 = random.randint(1, 10)\n",
    "num2 = random.randint(1, 10)\n",
    "\n",
    "# Calculate the correct product\n",
    "correct_product = num1 * num2\n",
    "\n",
    "# Ask user for the product\n",
    "user_answer = int(input(f\"What is {num1} * {num2}? \"))\n",
    "\n",
    "# Check if the answer is correct\n",
    "if user_answer == correct_product:\n",
    "    print(\"Correct! Well done.\")\n",
    "else:\n",
    "    print(f\"Incorrect. The correct answer is {correct_product}.\")"
   ]
  },
  {
   "cell_type": "markdown",
   "id": "b3294aab-d547-47ce-9f78-5425953a1539",
   "metadata": {},
   "source": [
    "# Exercise 2: Product of Random Numbers"
   ]
  },
  {
   "cell_type": "code",
   "execution_count": 3,
   "id": "539984fc-e4f7-41bb-9c43-f1f2cdb26899",
   "metadata": {},
   "outputs": [
    {
     "name": "stdout",
     "output_type": "stream",
     "text": [
      "Square of 100: 10000\n",
      "Square of 102: 10404\n",
      "Square of 104: 10816\n",
      "Square of 106: 11236\n",
      "Square of 108: 11664\n",
      "Square of 110: 12100\n",
      "Square of 112: 12544\n",
      "Square of 114: 12996\n",
      "Square of 116: 13456\n",
      "Square of 118: 13924\n",
      "Square of 120: 14400\n",
      "Square of 122: 14884\n",
      "Square of 124: 15376\n",
      "Square of 126: 15876\n",
      "Square of 128: 16384\n",
      "Square of 130: 16900\n",
      "Square of 132: 17424\n",
      "Square of 134: 17956\n",
      "Square of 136: 18496\n",
      "Square of 138: 19044\n",
      "Square of 140: 19600\n",
      "Square of 142: 20164\n",
      "Square of 144: 20736\n",
      "Square of 146: 21316\n",
      "Square of 148: 21904\n",
      "Square of 150: 22500\n",
      "Square of 152: 23104\n",
      "Square of 154: 23716\n",
      "Square of 156: 24336\n",
      "Square of 158: 24964\n",
      "Square of 160: 25600\n",
      "Square of 162: 26244\n",
      "Square of 164: 26896\n",
      "Square of 166: 27556\n",
      "Square of 168: 28224\n",
      "Square of 170: 28900\n",
      "Square of 172: 29584\n",
      "Square of 174: 30276\n",
      "Square of 176: 30976\n",
      "Square of 178: 31684\n",
      "Square of 180: 32400\n",
      "Square of 182: 33124\n",
      "Square of 184: 33856\n",
      "Square of 186: 34596\n",
      "Square of 188: 35344\n",
      "Square of 190: 36100\n",
      "Square of 192: 36864\n",
      "Square of 194: 37636\n",
      "Square of 196: 38416\n",
      "Square of 198: 39204\n",
      "Square of 200: 40000\n"
     ]
    }
   ],
   "source": [
    "# Print squares of even numbers within the range 100 to 200\n",
    "\n",
    "# Choosing even numbers for this exercise\n",
    "for num in range(100, 201):\n",
    "    if num % 2 == 0:  # Checking if the number is even\n",
    "        print(f\"Square of {num}: {num ** 2}\")\n"
   ]
  },
  {
   "cell_type": "markdown",
   "id": "ddc2aa28-ee8f-45f9-89af-6a1b7f4aefa8",
   "metadata": {},
   "source": [
    "# Exercise 4: Word counter"
   ]
  },
  {
   "cell_type": "code",
   "execution_count": 4,
   "id": "4135e61c-a8e1-4154-aab0-47e4c64e2d9d",
   "metadata": {},
   "outputs": [
    {
     "name": "stdout",
     "output_type": "stream",
     "text": [
      "'This': 2\n",
      "'is': 1\n",
      "'a': 1\n",
      "'sample': 1\n",
      "'text.': 1\n",
      "'text': 1\n",
      "'will': 1\n",
      "'be': 1\n",
      "'used': 1\n",
      "'to': 1\n",
      "'demonstrate': 1\n",
      "'the': 1\n",
      "'word': 1\n",
      "'counter.': 1\n"
     ]
    }
   ],
   "source": [
    "from collections import Counter\n",
    "\n",
    "# Input text\n",
    "input_text = \"This is a sample text. This text will be used to demonstrate the word counter.\"\n",
    "\n",
    "# Splitting the text into words\n",
    "words = input_text.split()\n",
    "\n",
    "# Counting occurrences of each word\n",
    "word_count = Counter(words)\n",
    "\n",
    "# Printing word count\n",
    "for word, count in word_count.items():\n",
    "    print(f\"'{word}': {count}\")\n"
   ]
  },
  {
   "cell_type": "markdown",
   "id": "7db5dabe-1fc4-48d3-b24b-9c4a107432df",
   "metadata": {},
   "source": [
    "# Exercise 5: Check for Palindrome"
   ]
  },
  {
   "cell_type": "code",
   "execution_count": 5,
   "id": "b7f7cef8-356b-4d11-99a0-a1dec419144e",
   "metadata": {},
   "outputs": [
    {
     "name": "stdin",
     "output_type": "stream",
     "text": [
      "Enter a string:  racecar\n"
     ]
    },
    {
     "name": "stdout",
     "output_type": "stream",
     "text": [
      "True\n"
     ]
    }
   ],
   "source": [
    "input_string = input(\"Enter a string: \").lower().replace(\" \", \"\")\n",
    "\n",
    "if input_string == input_string[::-1]:\n",
    "    print(\"True\")\n",
    "else:\n",
    "    print(\"False\")\n"
   ]
  },
  {
   "cell_type": "code",
   "execution_count": null,
   "id": "d2836013-e2c2-4d46-aad3-ac556a8398d6",
   "metadata": {},
   "outputs": [],
   "source": []
  }
 ],
 "metadata": {
  "kernelspec": {
   "display_name": "Python 3 (ipykernel)",
   "language": "python",
   "name": "python3"
  },
  "language_info": {
   "codemirror_mode": {
    "name": "ipython",
    "version": 3
   },
   "file_extension": ".py",
   "mimetype": "text/x-python",
   "name": "python",
   "nbconvert_exporter": "python",
   "pygments_lexer": "ipython3",
   "version": "3.12.7"
  }
 },
 "nbformat": 4,
 "nbformat_minor": 5
}
