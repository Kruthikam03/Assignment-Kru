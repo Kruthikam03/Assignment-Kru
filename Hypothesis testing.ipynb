{
 "cells": [
  {
   "cell_type": "code",
   "execution_count": 1,
   "id": "02b361a5-1fa5-4013-96e5-8662cf6cc186",
   "metadata": {},
   "outputs": [],
   "source": [
    "import numpy as np\n",
    "import scipy.stats as stats\n",
    "import pandas as pd"
   ]
  },
  {
   "cell_type": "markdown",
   "id": "3eab01f7-d2eb-4791-a99f-a5b8a39a90a3",
   "metadata": {},
   "source": [
    "# 1. Chi-Square Test"
   ]
  },
  {
   "cell_type": "code",
   "execution_count": 3,
   "id": "94b83320-101f-43fd-a814-9dec08218855",
   "metadata": {},
   "outputs": [
    {
     "data": {
      "text/plain": [
       "array([[ 50,  70],\n",
       "       [ 80, 100],\n",
       "       [ 60,  90],\n",
       "       [ 30,  50],\n",
       "       [ 20,  50]])"
      ]
     },
     "execution_count": 3,
     "metadata": {},
     "output_type": "execute_result"
    }
   ],
   "source": [
    "# Observed Data\n",
    "data = np.array([[50, 70],  # Very Satisfied\n",
    "                 [80, 100], # Satisfied\n",
    "                 [60, 90],  # Neutral\n",
    "                 [30, 50],  # Unsatisfied\n",
    "                 [20, 50]]) # Very Unsatisfied\n",
    "data"
   ]
  },
  {
   "cell_type": "code",
   "execution_count": 4,
   "id": "52dbe0ef-4007-4fc7-9dda-03bc726cb83a",
   "metadata": {},
   "outputs": [
    {
     "data": {
      "text/plain": [
       "(5.638227513227513,\n",
       " 0.22784371130697179,\n",
       " 4,\n",
       " array([[ 48.,  72.],\n",
       "        [ 72., 108.],\n",
       "        [ 60.,  90.],\n",
       "        [ 32.,  48.],\n",
       "        [ 28.,  42.]]))"
      ]
     },
     "execution_count": 4,
     "metadata": {},
     "output_type": "execute_result"
    }
   ],
   "source": [
    "# Perform Chi-Square Test\n",
    "chi2, p, dof, expected = stats.chi2_contingency(data)\n",
    "chi2, p, dof, expected"
   ]
  },
  {
   "cell_type": "code",
   "execution_count": 5,
   "id": "79e857ca-d453-4528-b998-742739d830eb",
   "metadata": {},
   "outputs": [
    {
     "data": {
      "text/plain": [
       "4"
      ]
     },
     "execution_count": 5,
     "metadata": {},
     "output_type": "execute_result"
    }
   ],
   "source": [
    "# Critical Value for alpha = 0.05\n",
    "df = (5 - 1) * (2 - 1)  # (rows-1) * (columns-1)\n",
    "df"
   ]
  },
  {
   "cell_type": "code",
   "execution_count": 6,
   "id": "b598e5da-9dcf-439f-bef6-a3de3480d6e9",
   "metadata": {},
   "outputs": [
    {
     "data": {
      "text/plain": [
       "9.487729036781154"
      ]
     },
     "execution_count": 6,
     "metadata": {},
     "output_type": "execute_result"
    }
   ],
   "source": [
    "critical_value = stats.chi2.ppf(0.95, df)\n",
    "critical_value"
   ]
  },
  {
   "cell_type": "code",
   "execution_count": 7,
   "id": "5d044674-019b-4f44-a91f-2a96c7af3631",
   "metadata": {},
   "outputs": [
    {
     "name": "stdout",
     "output_type": "stream",
     "text": [
      "Chi-Square Test Results:\n",
      "Chi2 Statistic: 5.638227513227513\n",
      "Critical Value: 9.487729036781154\n",
      "p-value: 0.22784371130697179\n"
     ]
    }
   ],
   "source": [
    "print(\"Chi-Square Test Results:\")\n",
    "print(f\"Chi2 Statistic: {chi2}\")\n",
    "print(f\"Critical Value: {critical_value}\")\n",
    "print(f\"p-value: {p}\")"
   ]
  },
  {
   "cell_type": "code",
   "execution_count": 8,
   "id": "9733f78f-8fa4-4d65-97cb-912e85b0ee51",
   "metadata": {},
   "outputs": [
    {
     "name": "stdout",
     "output_type": "stream",
     "text": [
      "Fail to Reject Null Hypothesis: No strong evidence of dependency.\n"
     ]
    }
   ],
   "source": [
    "# Decision\n",
    "if chi2 > critical_value:\n",
    "    print(\"Reject Null Hypothesis: Device type and satisfaction are dependent.\")\n",
    "else:\n",
    "    print(\"Fail to Reject Null Hypothesis: No strong evidence of dependency.\")"
   ]
  },
  {
   "cell_type": "markdown",
   "id": "f4a56a24-0d29-4893-b2ae-8de84765ca8b",
   "metadata": {},
   "source": [
    "# 2. One-Sample t-Test for Hypothesis Testing"
   ]
  },
  {
   "cell_type": "code",
   "execution_count": 9,
   "id": "ab15affc-f90b-4283-b7ef-e05f4d3896c5",
   "metadata": {},
   "outputs": [],
   "source": [
    "# Given Data\n",
    "sample_mean = 3050  # Sample mean weekly cost\n",
    "mu = 1000 + (5 * 600)  # Theoretical mean cost\n",
    "sigma = 5 * 25  # Standard deviation\n",
    "n = 25  # Sample size"
   ]
  },
  {
   "cell_type": "code",
   "execution_count": 10,
   "id": "ddad3290-25f2-4c83-a842-3e1041a134f1",
   "metadata": {},
   "outputs": [
    {
     "data": {
      "text/plain": [
       "-38.0"
      ]
     },
     "execution_count": 10,
     "metadata": {},
     "output_type": "execute_result"
    }
   ],
   "source": [
    "# Calculate Test Statistic\n",
    "t_stat = (sample_mean - mu) / (sigma / np.sqrt(n))\n",
    "t_stat"
   ]
  },
  {
   "cell_type": "code",
   "execution_count": 11,
   "id": "29f732e6-f0fa-4c64-9f4b-fec4ded60c87",
   "metadata": {},
   "outputs": [
    {
     "data": {
      "text/plain": [
       "1.7108820799094275"
      ]
     },
     "execution_count": 11,
     "metadata": {},
     "output_type": "execute_result"
    }
   ],
   "source": [
    "# Critical Value for one-tailed test (alpha = 0.05)\n",
    "critical_t = stats.t.ppf(0.95, df=n-1)\n",
    "critical_t"
   ]
  },
  {
   "cell_type": "code",
   "execution_count": 12,
   "id": "1fea1635-2411-4fb3-bf2c-8e5b31f490cc",
   "metadata": {},
   "outputs": [
    {
     "name": "stdout",
     "output_type": "stream",
     "text": [
      "\n",
      "One-Sample t-Test Results:\n",
      "t-Statistic: -38.0\n",
      "Critical Value: 1.7108820799094275\n"
     ]
    }
   ],
   "source": [
    "print(\"\\nOne-Sample t-Test Results:\")\n",
    "print(f\"t-Statistic: {t_stat}\")\n",
    "print(f\"Critical Value: {critical_t}\")\n"
   ]
  },
  {
   "cell_type": "code",
   "execution_count": 13,
   "id": "4cad3a82-1a2d-43c5-b8b5-a272410b58db",
   "metadata": {},
   "outputs": [
    {
     "name": "stdout",
     "output_type": "stream",
     "text": [
      "Fail to Reject Null Hypothesis: No significant difference in costs.\n"
     ]
    }
   ],
   "source": [
    "# Decision\n",
    "if t_stat > critical_t:\n",
    "    print(\"Reject Null Hypothesis: Actual costs are significantly higher.\")\n",
    "else:\n",
    "    print(\"Fail to Reject Null Hypothesis: No significant difference in costs.\")\n"
   ]
  },
  {
   "cell_type": "code",
   "execution_count": null,
   "id": "a808f28e-314f-4d88-9959-387eb7ce7020",
   "metadata": {},
   "outputs": [],
   "source": []
  }
 ],
 "metadata": {
  "kernelspec": {
   "display_name": "Python 3 (ipykernel)",
   "language": "python",
   "name": "python3"
  },
  "language_info": {
   "codemirror_mode": {
    "name": "ipython",
    "version": 3
   },
   "file_extension": ".py",
   "mimetype": "text/x-python",
   "name": "python",
   "nbconvert_exporter": "python",
   "pygments_lexer": "ipython3",
   "version": "3.12.7"
  }
 },
 "nbformat": 4,
 "nbformat_minor": 5
}
